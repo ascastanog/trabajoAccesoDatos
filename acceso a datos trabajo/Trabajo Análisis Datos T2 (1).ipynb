{
 "cells": [
  {
   "cell_type": "markdown",
   "id": "40a26318",
   "metadata": {},
   "source": [
    "# ANÁLISIS DE DATOS\n",
    "\n",
    "Genera un documento realizando un análisis de datos a un datasets sobre el coste de seguros de salud en función de varias variables. \n",
    "\n",
    "Hazlo de modo profesional, aportando tus explicaciones y conclusiones a cada consulta, a cada gráfico y al resultado de la regresión lineal. Todo ello será valorado para la nota.\n",
    "\n",
    "Cada celda tiene su enunciado, resuélvelo en la misma celda sin borrar el comentario."
   ]
  },
  {
   "cell_type": "markdown",
   "id": "1b22bbbe",
   "metadata": {},
   "source": [
    "## Dataset seguro.csv\n",
    "\n",
    "### Columnas del dataset:\n",
    "\n",
    "- edad: edad del beneficiario principal. Numérica.\n",
    "- sexo: género del contratista de seguros. Categórica: female, male.\n",
    "- imc: índice de masa corporal, relación del peso con la altura, idealmente 18,5 a 24,9. Numérica. \n",
    "- hijos: Número de hijos cubiertos por el seguro médico. Numérica. \n",
    "- fumador: Categórica: yes/no\n",
    "- región: Zona residencial del beneficiario en EE. UU. Categórica: noreste, sureste, suroeste, noroeste.\n",
    "- coste: Costos médicos individuales facturados por el seguro médico"
   ]
  },
  {
   "cell_type": "code",
   "execution_count": 90,
   "id": "8ccc41e9",
   "metadata": {},
   "outputs": [
    {
     "data": {
      "text/html": [
       "<div>\n",
       "<style scoped>\n",
       "    .dataframe tbody tr th:only-of-type {\n",
       "        vertical-align: middle;\n",
       "    }\n",
       "\n",
       "    .dataframe tbody tr th {\n",
       "        vertical-align: top;\n",
       "    }\n",
       "\n",
       "    .dataframe thead th {\n",
       "        text-align: right;\n",
       "    }\n",
       "</style>\n",
       "<table border=\"1\" class=\"dataframe\">\n",
       "  <thead>\n",
       "    <tr style=\"text-align: right;\">\n",
       "      <th></th>\n",
       "      <th>edad</th>\n",
       "      <th>sexo</th>\n",
       "      <th>imc</th>\n",
       "      <th>hijos</th>\n",
       "      <th>fumador</th>\n",
       "      <th>region</th>\n",
       "      <th>coste</th>\n",
       "    </tr>\n",
       "  </thead>\n",
       "  <tbody>\n",
       "    <tr>\n",
       "      <th>0</th>\n",
       "      <td>19</td>\n",
       "      <td>female</td>\n",
       "      <td>27.900</td>\n",
       "      <td>0</td>\n",
       "      <td>yes</td>\n",
       "      <td>southwest</td>\n",
       "      <td>16884.92400</td>\n",
       "    </tr>\n",
       "    <tr>\n",
       "      <th>1</th>\n",
       "      <td>18</td>\n",
       "      <td>male</td>\n",
       "      <td>33.770</td>\n",
       "      <td>1</td>\n",
       "      <td>no</td>\n",
       "      <td>southeast</td>\n",
       "      <td>1725.55230</td>\n",
       "    </tr>\n",
       "    <tr>\n",
       "      <th>2</th>\n",
       "      <td>28</td>\n",
       "      <td>male</td>\n",
       "      <td>33.000</td>\n",
       "      <td>3</td>\n",
       "      <td>no</td>\n",
       "      <td>southeast</td>\n",
       "      <td>4449.46200</td>\n",
       "    </tr>\n",
       "    <tr>\n",
       "      <th>3</th>\n",
       "      <td>33</td>\n",
       "      <td>male</td>\n",
       "      <td>22.705</td>\n",
       "      <td>0</td>\n",
       "      <td>no</td>\n",
       "      <td>northwest</td>\n",
       "      <td>21984.47061</td>\n",
       "    </tr>\n",
       "    <tr>\n",
       "      <th>4</th>\n",
       "      <td>32</td>\n",
       "      <td>male</td>\n",
       "      <td>28.880</td>\n",
       "      <td>0</td>\n",
       "      <td>no</td>\n",
       "      <td>northwest</td>\n",
       "      <td>3866.85520</td>\n",
       "    </tr>\n",
       "  </tbody>\n",
       "</table>\n",
       "</div>"
      ],
      "text/plain": [
       "   edad    sexo     imc  hijos fumador     region        coste\n",
       "0    19  female  27.900      0     yes  southwest  16884.92400\n",
       "1    18    male  33.770      1      no  southeast   1725.55230\n",
       "2    28    male  33.000      3      no  southeast   4449.46200\n",
       "3    33    male  22.705      0      no  northwest  21984.47061\n",
       "4    32    male  28.880      0      no  northwest   3866.85520"
      ]
     },
     "execution_count": 90,
     "metadata": {},
     "output_type": "execute_result"
    }
   ],
   "source": [
    "import pandas as pd\n",
    "df = pd.read_csv('seguro.csv')\n",
    "df.head(5)"
   ]
  },
  {
   "cell_type": "markdown",
   "id": "86e42db7",
   "metadata": {},
   "source": [
    "# 1. DataFrames (1 punto)"
   ]
  },
  {
   "cell_type": "code",
   "execution_count": 40,
   "id": "9da6d54f",
   "metadata": {},
   "outputs": [
    {
     "name": "stdout",
     "output_type": "stream",
     "text": [
      "El numero de columnas es:  7\n",
      "1338\n"
     ]
    }
   ],
   "source": [
    "# Muestra cuántas columnas y filas existen en el dataset\n",
    "print(\"El numero de columnas es: \",df.shape[1])\n"
   ]
  },
  {
   "cell_type": "code",
   "execution_count": 11,
   "id": "64718faf",
   "metadata": {},
   "outputs": [
    {
     "name": "stdout",
     "output_type": "stream",
     "text": [
      "Index(['edad', 'sexo', 'imc', 'hijos', 'fumador', 'region', 'coste'], dtype='object')\n"
     ]
    }
   ],
   "source": [
    "# Guarda los nombres de las filas en una lista\n",
    "filas = df.columns\n",
    "print(filas)"
   ]
  },
  {
   "cell_type": "code",
   "execution_count": 12,
   "id": "ae070823",
   "metadata": {},
   "outputs": [
    {
     "data": {
      "text/plain": [
       "edad       0\n",
       "sexo       0\n",
       "imc        0\n",
       "hijos      0\n",
       "fumador    0\n",
       "region     0\n",
       "coste      0\n",
       "dtype: int64"
      ]
     },
     "execution_count": 12,
     "metadata": {},
     "output_type": "execute_result"
    }
   ],
   "source": [
    "# Comprueba de que no exista ningun null/nan en el dataset. \n",
    "df.shape[0] - df.count()"
   ]
  },
  {
   "cell_type": "code",
   "execution_count": 30,
   "id": "4441ba6c",
   "metadata": {},
   "outputs": [
    {
     "data": {
      "text/html": [
       "<div>\n",
       "<style scoped>\n",
       "    .dataframe tbody tr th:only-of-type {\n",
       "        vertical-align: middle;\n",
       "    }\n",
       "\n",
       "    .dataframe tbody tr th {\n",
       "        vertical-align: top;\n",
       "    }\n",
       "\n",
       "    .dataframe thead th {\n",
       "        text-align: right;\n",
       "    }\n",
       "</style>\n",
       "<table border=\"1\" class=\"dataframe\">\n",
       "  <thead>\n",
       "    <tr style=\"text-align: right;\">\n",
       "      <th></th>\n",
       "      <th>edad</th>\n",
       "      <th>imc</th>\n",
       "      <th>hijos</th>\n",
       "      <th>fumador</th>\n",
       "      <th>region</th>\n",
       "      <th>coste</th>\n",
       "      <th>coste/hijos</th>\n",
       "    </tr>\n",
       "  </thead>\n",
       "  <tbody>\n",
       "    <tr>\n",
       "      <th>1</th>\n",
       "      <td>18</td>\n",
       "      <td>33.770</td>\n",
       "      <td>1</td>\n",
       "      <td>no</td>\n",
       "      <td>southeast</td>\n",
       "      <td>1725.55230</td>\n",
       "      <td>1725.55230</td>\n",
       "    </tr>\n",
       "    <tr>\n",
       "      <th>2</th>\n",
       "      <td>28</td>\n",
       "      <td>33.000</td>\n",
       "      <td>3</td>\n",
       "      <td>no</td>\n",
       "      <td>southeast</td>\n",
       "      <td>4449.46200</td>\n",
       "      <td>1483.15400</td>\n",
       "    </tr>\n",
       "    <tr>\n",
       "      <th>3</th>\n",
       "      <td>33</td>\n",
       "      <td>22.705</td>\n",
       "      <td>0</td>\n",
       "      <td>no</td>\n",
       "      <td>northwest</td>\n",
       "      <td>21984.47061</td>\n",
       "      <td>21984.47061</td>\n",
       "    </tr>\n",
       "    <tr>\n",
       "      <th>4</th>\n",
       "      <td>32</td>\n",
       "      <td>28.880</td>\n",
       "      <td>0</td>\n",
       "      <td>no</td>\n",
       "      <td>northwest</td>\n",
       "      <td>3866.85520</td>\n",
       "      <td>3866.85520</td>\n",
       "    </tr>\n",
       "    <tr>\n",
       "      <th>8</th>\n",
       "      <td>37</td>\n",
       "      <td>29.830</td>\n",
       "      <td>2</td>\n",
       "      <td>no</td>\n",
       "      <td>northeast</td>\n",
       "      <td>6406.41070</td>\n",
       "      <td>3203.20535</td>\n",
       "    </tr>\n",
       "    <tr>\n",
       "      <th>...</th>\n",
       "      <td>...</td>\n",
       "      <td>...</td>\n",
       "      <td>...</td>\n",
       "      <td>...</td>\n",
       "      <td>...</td>\n",
       "      <td>...</td>\n",
       "      <td>...</td>\n",
       "    </tr>\n",
       "    <tr>\n",
       "      <th>1324</th>\n",
       "      <td>31</td>\n",
       "      <td>25.935</td>\n",
       "      <td>1</td>\n",
       "      <td>no</td>\n",
       "      <td>northwest</td>\n",
       "      <td>4239.89265</td>\n",
       "      <td>4239.89265</td>\n",
       "    </tr>\n",
       "    <tr>\n",
       "      <th>1325</th>\n",
       "      <td>61</td>\n",
       "      <td>33.535</td>\n",
       "      <td>0</td>\n",
       "      <td>no</td>\n",
       "      <td>northeast</td>\n",
       "      <td>13143.33665</td>\n",
       "      <td>13143.33665</td>\n",
       "    </tr>\n",
       "    <tr>\n",
       "      <th>1327</th>\n",
       "      <td>51</td>\n",
       "      <td>30.030</td>\n",
       "      <td>1</td>\n",
       "      <td>no</td>\n",
       "      <td>southeast</td>\n",
       "      <td>9377.90470</td>\n",
       "      <td>9377.90470</td>\n",
       "    </tr>\n",
       "    <tr>\n",
       "      <th>1329</th>\n",
       "      <td>52</td>\n",
       "      <td>38.600</td>\n",
       "      <td>2</td>\n",
       "      <td>no</td>\n",
       "      <td>southwest</td>\n",
       "      <td>10325.20600</td>\n",
       "      <td>5162.60300</td>\n",
       "    </tr>\n",
       "    <tr>\n",
       "      <th>1333</th>\n",
       "      <td>50</td>\n",
       "      <td>30.970</td>\n",
       "      <td>3</td>\n",
       "      <td>no</td>\n",
       "      <td>northwest</td>\n",
       "      <td>10600.54830</td>\n",
       "      <td>3533.51610</td>\n",
       "    </tr>\n",
       "  </tbody>\n",
       "</table>\n",
       "<p>676 rows × 7 columns</p>\n",
       "</div>"
      ],
      "text/plain": [
       "      edad     imc  hijos fumador     region        coste  coste/hijos\n",
       "1       18  33.770      1      no  southeast   1725.55230   1725.55230\n",
       "2       28  33.000      3      no  southeast   4449.46200   1483.15400\n",
       "3       33  22.705      0      no  northwest  21984.47061  21984.47061\n",
       "4       32  28.880      0      no  northwest   3866.85520   3866.85520\n",
       "8       37  29.830      2      no  northeast   6406.41070   3203.20535\n",
       "...    ...     ...    ...     ...        ...          ...          ...\n",
       "1324    31  25.935      1      no  northwest   4239.89265   4239.89265\n",
       "1325    61  33.535      0      no  northeast  13143.33665  13143.33665\n",
       "1327    51  30.030      1      no  southeast   9377.90470   9377.90470\n",
       "1329    52  38.600      2      no  southwest  10325.20600   5162.60300\n",
       "1333    50  30.970      3      no  northwest  10600.54830   3533.51610\n",
       "\n",
       "[676 rows x 7 columns]"
      ]
     },
     "execution_count": 30,
     "metadata": {},
     "output_type": "execute_result"
    }
   ],
   "source": [
    "# Crea el dataFrame df_male con todas las columnas, menos el sexo, que corresponda a las filas sexo=male\n",
    "df_male = df[df['sexo']=='male'][['edad', 'imc','hijos', 'fumador', 'region', 'coste']]\n",
    "\n",
    "# Añade a df_male una columna que sea la relación coste/hijos.\n",
    "# Atento a las filas donde hijos = 0, el coste debe ser el mismo que si fuese 1 hijo\n",
    "\n",
    "def division(fila):\n",
    "    if fila['hijos'] == 0:\n",
    "        return fila['coste']\n",
    "    else:\n",
    "        return fila['coste']/fila['hijos']\n",
    "\n",
    "\n",
    "\n",
    "df_male['coste/hijos']= df_male.apply(division, axis=1)\n",
    "df_male\n"
   ]
  },
  {
   "cell_type": "code",
   "execution_count": 32,
   "id": "a354c6fc",
   "metadata": {},
   "outputs": [
    {
     "data": {
      "text/html": [
       "<div>\n",
       "<style scoped>\n",
       "    .dataframe tbody tr th:only-of-type {\n",
       "        vertical-align: middle;\n",
       "    }\n",
       "\n",
       "    .dataframe tbody tr th {\n",
       "        vertical-align: top;\n",
       "    }\n",
       "\n",
       "    .dataframe thead th {\n",
       "        text-align: right;\n",
       "    }\n",
       "</style>\n",
       "<table border=\"1\" class=\"dataframe\">\n",
       "  <thead>\n",
       "    <tr style=\"text-align: right;\">\n",
       "      <th></th>\n",
       "      <th>edad</th>\n",
       "      <th>imc</th>\n",
       "      <th>hijos</th>\n",
       "      <th>coste</th>\n",
       "    </tr>\n",
       "  </thead>\n",
       "  <tbody>\n",
       "    <tr>\n",
       "      <th>count</th>\n",
       "      <td>1338.000000</td>\n",
       "      <td>1338.000000</td>\n",
       "      <td>1338.000000</td>\n",
       "      <td>1338.000000</td>\n",
       "    </tr>\n",
       "    <tr>\n",
       "      <th>mean</th>\n",
       "      <td>39.207025</td>\n",
       "      <td>30.663397</td>\n",
       "      <td>1.094918</td>\n",
       "      <td>13270.422265</td>\n",
       "    </tr>\n",
       "    <tr>\n",
       "      <th>std</th>\n",
       "      <td>14.049960</td>\n",
       "      <td>6.098187</td>\n",
       "      <td>1.205493</td>\n",
       "      <td>12110.011237</td>\n",
       "    </tr>\n",
       "    <tr>\n",
       "      <th>min</th>\n",
       "      <td>18.000000</td>\n",
       "      <td>15.960000</td>\n",
       "      <td>0.000000</td>\n",
       "      <td>1121.873900</td>\n",
       "    </tr>\n",
       "    <tr>\n",
       "      <th>25%</th>\n",
       "      <td>27.000000</td>\n",
       "      <td>26.296250</td>\n",
       "      <td>0.000000</td>\n",
       "      <td>4740.287150</td>\n",
       "    </tr>\n",
       "    <tr>\n",
       "      <th>50%</th>\n",
       "      <td>39.000000</td>\n",
       "      <td>30.400000</td>\n",
       "      <td>1.000000</td>\n",
       "      <td>9382.033000</td>\n",
       "    </tr>\n",
       "    <tr>\n",
       "      <th>75%</th>\n",
       "      <td>51.000000</td>\n",
       "      <td>34.693750</td>\n",
       "      <td>2.000000</td>\n",
       "      <td>16639.912515</td>\n",
       "    </tr>\n",
       "    <tr>\n",
       "      <th>max</th>\n",
       "      <td>64.000000</td>\n",
       "      <td>53.130000</td>\n",
       "      <td>5.000000</td>\n",
       "      <td>63770.428010</td>\n",
       "    </tr>\n",
       "  </tbody>\n",
       "</table>\n",
       "</div>"
      ],
      "text/plain": [
       "              edad          imc        hijos         coste\n",
       "count  1338.000000  1338.000000  1338.000000   1338.000000\n",
       "mean     39.207025    30.663397     1.094918  13270.422265\n",
       "std      14.049960     6.098187     1.205493  12110.011237\n",
       "min      18.000000    15.960000     0.000000   1121.873900\n",
       "25%      27.000000    26.296250     0.000000   4740.287150\n",
       "50%      39.000000    30.400000     1.000000   9382.033000\n",
       "75%      51.000000    34.693750     2.000000  16639.912515\n",
       "max      64.000000    53.130000     5.000000  63770.428010"
      ]
     },
     "execution_count": 32,
     "metadata": {},
     "output_type": "execute_result"
    }
   ],
   "source": [
    "# Muestra el resumen estadístico del DataFrame original\n",
    "df.describe()"
   ]
  },
  {
   "cell_type": "markdown",
   "id": "fb1cc7d8",
   "metadata": {},
   "source": [
    "# 2. Consultas (3 puntos)\n",
    "\n",
    "Realiza las consultas de los comentarios de cada celda, de manera que se muestre el resultado, a partir de los datos originales."
   ]
  },
  {
   "cell_type": "code",
   "execution_count": 44,
   "id": "ca70701e",
   "metadata": {},
   "outputs": [
    {
     "name": "stdout",
     "output_type": "stream",
     "text": [
      "El porcentaje de mujeres es:  49.47683109118087\n",
      "El porcentaje de hombres es:  50.52316890881914\n"
     ]
    }
   ],
   "source": [
    "# ¿Cuál es el porcentaje de hombres y de mujeres en el dataset? \n",
    "print(\"El porcentaje de mujeres es: \",(df[df['sexo'] =='female'].shape[0]/df.shape[0])*100)\n",
    "print(\"El porcentaje de hombres es: \",(df[df['sexo'] =='male'].shape[0]/df.shape[0])*100)"
   ]
  },
  {
   "cell_type": "code",
   "execution_count": 49,
   "id": "69e96e15",
   "metadata": {},
   "outputs": [
    {
     "name": "stdout",
     "output_type": "stream",
     "text": [
      "La edad media de los hombre es:  38.917159763313606\n",
      "La edad media de las mujeres es:  39.503021148036254\n",
      "La diferencia es:  0.5858613847226479\n"
     ]
    }
   ],
   "source": [
    "# ¿Cuál es la edad media por sexo y total? Osea, calcula la edad media de mujeres y edad media de hombres y compara.\n",
    "edad_media_hombres = df[df['sexo']=='male']['edad'].mean()\n",
    "edad_media_mujeres = df[df['sexo']=='female']['edad'].mean()\n",
    "print(\"La edad media de los hombre es: \",edad_media_hombres)\n",
    "print(\"La edad media de las mujeres es: \",edad_media_mujeres)\n",
    "print(\"La diferencia es: \", abs(edad_media_hombres-edad_media_mujeres))"
   ]
  },
  {
   "cell_type": "code",
   "execution_count": 83,
   "id": "6a4adefd",
   "metadata": {},
   "outputs": [
    {
     "name": "stdout",
     "output_type": "stream",
     "text": [
      "Hay 159 fumadores hombres\n",
      "Hay 115 fumadores mujeres\n",
      "El porcentaje de fumadores total es:  20.47832585949178\n",
      "el porcentaje de hombres fumadores es:  23.5207100591716\n",
      "el porcentaje de mujeres fumadoras es:  17.371601208459214\n"
     ]
    }
   ],
   "source": [
    "# ¿Cuántos fumadores hay de cada sexo? ¿Cuál es el porcentaje de fumadores totales y por sexo? \n",
    "fumadores_hombre = len(df[(df['sexo']=='male') &(df['fumador']=='yes')])\n",
    "fumadores_mujeres = len(df[(df['sexo']=='female') &(df['fumador']=='yes')])\n",
    "porcentaje_total = (df[df['fumador'] =='yes'].shape[0]/df.shape[0])*100\n",
    "porcentaje_hombres = (fumadores_hombre/(df[df['sexo']=='male']).shape[0])*100\n",
    "porcentaje_mujeres = (fumadores_mujeres/(df[df['sexo']=='female']).shape[0])*100\n",
    "\n",
    "print(f'Hay {fumadores_hombre} fumadores hombres')\n",
    "print(f'Hay {fumadores_mujeres} fumadores mujeres')\n",
    "print('El porcentaje de fumadores total es: ', porcentaje_total)\n",
    "print('el porcentaje de hombres fumadores es: ', porcentaje_hombres)\n",
    "print('el porcentaje de mujeres fumadoras es: ', porcentaje_mujeres)\n"
   ]
  },
  {
   "cell_type": "code",
   "execution_count": 98,
   "id": "6276dd17",
   "metadata": {},
   "outputs": [
    {
     "name": "stdout",
     "output_type": "stream",
     "text": [
      "region\n",
      "northeast    13406.384516\n",
      "northwest    12417.575374\n",
      "southeast    14735.411438\n",
      "southwest    12346.937377\n",
      "Name: coste, dtype: float64\n"
     ]
    }
   ],
   "source": [
    "# ¿Cuál es el coste medio de cada región?\n",
    "coste_medio_region = df.groupby('region')['coste'].mean()\n",
    "print(coste_medio_region)"
   ]
  },
  {
   "cell_type": "code",
   "execution_count": 109,
   "id": "b2940c5e",
   "metadata": {},
   "outputs": [
    {
     "name": "stdout",
     "output_type": "stream",
     "text": [
      "fumador\n",
      "no      8434.268298\n",
      "yes    32050.231832\n",
      "Name: coste, dtype: float64\n",
      "el indice con mayor coste medio es:  yes\n"
     ]
    }
   ],
   "source": [
    "# ¿Cuál es el coste medio de los fumadores y no fumadores? ¿Donde es mayor?\n",
    "coste_medio_fumadores = df.groupby('fumador')['coste'].mean()\n",
    "print(coste_medio_fumadores)\n",
    "print(\"el indice con mayor coste medio es: \",coste_medio_fumadores.idxmax())"
   ]
  },
  {
   "cell_type": "code",
   "execution_count": 119,
   "id": "2d99876a",
   "metadata": {},
   "outputs": [
    {
     "name": "stdout",
     "output_type": "stream",
     "text": [
      "La media en hombres es: 31.504182389937107 y la desviacion estandar es de : 5.952028025675122\n",
      "La media en mujeres es: 29.60826086956522 y la desviacion estandar es de : 6.663801567788382\n"
     ]
    }
   ],
   "source": [
    "# ¿Cuál es la media y la desviación estándar del imc en hombres fumadores y en mujeres fumadoras?\n",
    "media_hombres_fumadores =df[(df['sexo']=='male') & (df['fumador']=='yes')]['imc'].mean()\n",
    "desviacion_hombres_fumadores =df[(df['sexo']=='male') & (df['fumador']=='yes')]['imc'].std()\n",
    "media_mujeres_fumadores =df[(df['sexo']=='female') & (df['fumador']=='yes')]['imc'].mean()\n",
    "desviacion_mujeres_fumadores =df[(df['sexo']=='female') & (df['fumador']=='yes')]['imc'].std()\n",
    "print(f\"La media en hombres es: {media_hombres_fumadores} y la desviacion estandar es de : {desviacion_hombres_fumadores}\")\n",
    "print(f\"La media en mujeres es: {media_mujeres_fumadores} y la desviacion estandar es de : {desviacion_mujeres_fumadores}\")"
   ]
  },
  {
   "cell_type": "code",
   "execution_count": 137,
   "id": "b0ea5adb",
   "metadata": {},
   "outputs": [
    {
     "name": "stdout",
     "output_type": "stream",
     "text": [
      "La media es:  hijos  sexo  \n",
      "0      female    30.361522\n",
      "       male      30.741719\n",
      "1      female    30.052658\n",
      "       male      31.166145\n",
      "2      female    30.649790\n",
      "       male      31.300992\n",
      "3      female    30.436429\n",
      "       male      30.922937\n",
      "4      female    31.943182\n",
      "       male      30.957500\n",
      "5      female    30.620625\n",
      "       male      28.792500\n",
      "Name: imc, dtype: float64\n",
      "La desviacion es:  hijos  sexo  \n",
      "0      female    5.966934\n",
      "       male      6.115954\n",
      "1      female    5.786831\n",
      "       male      6.356382\n",
      "2      female    6.628200\n",
      "       male      6.401951\n",
      "3      female    5.832741\n",
      "       male      5.769607\n",
      "4      female    5.190395\n",
      "       male      4.283053\n",
      "5      female    8.932533\n",
      "       male      5.707620\n",
      "Name: imc, dtype: float64\n",
      "La media mayor es:  31.943181818181817\n",
      "La media menor es:  28.7925\n"
     ]
    }
   ],
   "source": [
    "# ¿Cuál es la media y la desviación estándar del imc en hombres y en mujeres en función del número de hijos?\n",
    "#Osea, media del imc en hombres con 0 hijos, hombres con 1 hijo, etc...\n",
    "media_imc_hijos=df.groupby(['hijos','sexo'])['imc'].mean()\n",
    "desviacion_imc_hijos=df.groupby(['hijos','sexo'])['imc'].std()\n",
    "print(\"La media es: \",media_imc_hijos)\n",
    "print(\"La desviacion es: \",desviacion_imc_hijos)\n",
    "# ¿Cuál de estas medias es mayor y cuál menor?\n",
    "print(\"La media mayor es: \",media_imc_hijos.max())\n",
    "\n",
    "print(\"La media menor es: \",media_imc_hijos.min())"
   ]
  },
  {
   "cell_type": "code",
   "execution_count": null,
   "id": "b28793ca",
   "metadata": {},
   "outputs": [],
   "source": [
    "# Haz una Serie con los datos de la media de hijos agrupados por edades de 10 en 10.\n",
    "# 18 a 27\n",
    "# 28 a 37\n",
    "# etc...\n",
    "# Los nombres de las etiquetas de la Serie deben ser los rangos: '18a27', '28a37', etc"
   ]
  },
  {
   "cell_type": "code",
   "execution_count": null,
   "id": "4ff806a0",
   "metadata": {},
   "outputs": [],
   "source": [
    "# Haz lo mismo que en la anterior celda pero con el imc. "
   ]
  },
  {
   "cell_type": "code",
   "execution_count": null,
   "id": "f01afee3",
   "metadata": {},
   "outputs": [],
   "source": [
    "# Haz una Serie con la media del coste agrupando por región y fumador/nofumador. Etiqueta los datos.\n",
    "# northeast_Fum\n",
    "# northeast_Nofum\n",
    "# northwest_Fum\n",
    "# northwest_Nofum\n",
    "# southeast_Fum\n",
    "# southeast_Nofum\n",
    "# southwest_Fum\n",
    "# southwest_Nofum"
   ]
  },
  {
   "cell_type": "markdown",
   "id": "a7f09c91",
   "metadata": {},
   "source": [
    "# 3. Gráficos (3 puntos) \n",
    "\n",
    "Genera los gráficos que se piden a continuación de la manera más profesional posible (colores, legenda, nombres de ejes, etc).\n",
    "\n",
    "Más adelante pondré ejemplos de como deben quedar"
   ]
  },
  {
   "cell_type": "markdown",
   "id": "4abcd731",
   "metadata": {},
   "source": [
    "# Gráficas de tartas"
   ]
  },
  {
   "cell_type": "code",
   "execution_count": null,
   "id": "48a7619b",
   "metadata": {},
   "outputs": [],
   "source": [
    "# Haz un gráfico con la proporción en el dataset entre hombres fumadores, hombres no fumadores\n",
    "        #mujeres fumadoras, mujeres no fumadoras"
   ]
  },
  {
   "cell_type": "code",
   "execution_count": null,
   "id": "68a0044d",
   "metadata": {},
   "outputs": [],
   "source": [
    "# Haz un gráfico con la proporción en el dataset entre regiones"
   ]
  },
  {
   "cell_type": "code",
   "execution_count": null,
   "id": "440afd54",
   "metadata": {},
   "outputs": [],
   "source": [
    "# Haz un gráfico con la proporción en el dataset entre número de hijos"
   ]
  },
  {
   "cell_type": "code",
   "execution_count": null,
   "id": "ba7b20c6",
   "metadata": {},
   "outputs": [],
   "source": [
    "# Haz un gráfico con la proporción en el dataset según el imc\n",
    "        #dividiendo el imc en 5 grupos igualmente separados según valor "
   ]
  },
  {
   "cell_type": "markdown",
   "id": "e39664e8",
   "metadata": {},
   "source": [
    "# Histograma"
   ]
  },
  {
   "cell_type": "code",
   "execution_count": null,
   "id": "a3214410",
   "metadata": {},
   "outputs": [],
   "source": [
    "# Haz un histograma con el coste, que muestre la densidad de la distribución de probabilidad, con 8 barras. "
   ]
  },
  {
   "cell_type": "code",
   "execution_count": null,
   "id": "e34bbc94",
   "metadata": {},
   "outputs": [],
   "source": [
    "# Haz lo mismo con el número de hijos"
   ]
  },
  {
   "cell_type": "markdown",
   "id": "79ba9328",
   "metadata": {},
   "source": [
    "# Nube de puntos"
   ]
  },
  {
   "cell_type": "code",
   "execution_count": null,
   "id": "224b9ba9",
   "metadata": {},
   "outputs": [],
   "source": [
    "# Haz una nube de puntos con la edad en el eje x y los costes en el eje y, separando en 2 colores diferentes fum/no fum"
   ]
  },
  {
   "cell_type": "code",
   "execution_count": null,
   "id": "cbac28e7",
   "metadata": {},
   "outputs": [],
   "source": [
    "# Haz una nube de puntos con el IMC en el eje X y los costes en el eje Y. Separa en colores diferentes según fum/no fum"
   ]
  },
  {
   "cell_type": "code",
   "execution_count": null,
   "id": "6552851a",
   "metadata": {},
   "outputs": [],
   "source": [
    "# Haz una nube de puntos con la edad en el eje X y el imc en el eje Y. Separando en colores diferentes según hijos. "
   ]
  },
  {
   "cell_type": "markdown",
   "id": "e2a4dd6c",
   "metadata": {},
   "source": [
    "# Conversión de variables\n",
    "\n",
    "Para realizar regresión lineal necesitamos que todas las variables sean numéricas. \n",
    "\n",
    "Haz una copia del dataset llamado \"data_num\" y convierte las variables categóricas en numéricas:\n",
    "\n",
    "### Sexo: \n",
    "+ female = 0\n",
    "+ male = 1\n",
    "\n",
    "\n",
    "### Fumador: \n",
    "+ no = 0\n",
    "+ yes = 1\n",
    "\n",
    "### Región: \n",
    "+ northeast = 0\n",
    "+ northwest = 1\n",
    "+ southeast = 2\n",
    "+ southwest = 3"
   ]
  },
  {
   "cell_type": "code",
   "execution_count": null,
   "id": "992cc94b",
   "metadata": {},
   "outputs": [],
   "source": [
    "# Nuevo dataframe con la Conversión de variables"
   ]
  },
  {
   "cell_type": "markdown",
   "id": "87941aae",
   "metadata": {},
   "source": [
    "# 4. Regresión lineal (3 puntos)"
   ]
  },
  {
   "cell_type": "code",
   "execution_count": null,
   "id": "b8a4fe2b",
   "metadata": {},
   "outputs": [],
   "source": [
    "# Calcula la correlación entre variables.\n",
    "# ¿Cuál es la mayor correlación entre variables? ¿Cuál es la menor? "
   ]
  },
  {
   "cell_type": "code",
   "execution_count": null,
   "id": "37563445",
   "metadata": {},
   "outputs": [],
   "source": [
    "# Genera una nube de puntos con el IMC en el eje X, el coste en el eje Y\n",
    "\n",
    "\n",
    "# Calcula la recta de regresión entre ambas variables y píntala en el gráfico"
   ]
  },
  {
   "cell_type": "code",
   "execution_count": null,
   "id": "16dcfa8c",
   "metadata": {},
   "outputs": [],
   "source": [
    "# Genera unas divisiones de los datos originales de data_num:\n",
    "    # El 90% de los valores van a 'entrenamiento' \n",
    "    # El 10% restante mételo en 'test'\n",
    "    # Para ello, investiga el uso de train_test_split\n",
    "from sklearn.model_selection import train_test_split\n"
   ]
  },
  {
   "cell_type": "code",
   "execution_count": null,
   "id": "b15bbd89",
   "metadata": {},
   "outputs": [],
   "source": [
    "# Entrena un modelo de regresión líneal múltiple con el dataframe 'entrenamiento'"
   ]
  },
  {
   "cell_type": "code",
   "execution_count": null,
   "id": "96672894",
   "metadata": {},
   "outputs": [],
   "source": [
    "# Calcula el error del modelo a partir de los datos de 'test' manualmente con una estructura iterativa segun la fórmula"
   ]
  },
  {
   "attachments": {
    "imagen.png": {
     "image/png": "[encoded data removed]"
    }
   },
   "cell_type": "markdown",
   "id": "2add08f5",
   "metadata": {},
   "source": [
    "![imagen.png](attachment:imagen.png)"
   ]
  },
  {
   "cell_type": "code",
   "execution_count": null,
   "id": "4ee8157b",
   "metadata": {},
   "outputs": [],
   "source": [
    "# Investiga el uso de una de las siguiente función para calcular el error de forma automática\n",
    "    # La función Dependerá de la versión de la librería que tienes instalada\n",
    "\n",
    "from sklearn.metrics import mean_squared_error\n",
    "from sklearn.metrics import root_mean_squared_error"
   ]
  },
  {
   "cell_type": "code",
   "execution_count": null,
   "id": "2ddf3c0c",
   "metadata": {},
   "outputs": [],
   "source": [
    "# Crea un dataframe a partir del conjunto de test (datos y objetivo), ordenado de menor a mayor según el coste\n",
    "\n",
    "\n",
    "# Mete en un ndarray los valores del coste.\n",
    "\n",
    "\n",
    "# A partir de este dataframe, haz una predicción usando el modelo.\n",
    "\n",
    "\n",
    "# Con ambos ndarrays (valor real, valor predicho) haz un plot con 2 líneas, cada una de 1 color, para comparar diferencias."
   ]
  }
 ],
 "metadata": {
  "kernelspec": {
   "display_name": "Python 3 (ipykernel)",
   "language": "python",
   "name": "python3"
  },
  "language_info": {
   "codemirror_mode": {
    "name": "ipython",
    "version": 3
   },
   "file_extension": ".py",
   "mimetype": "text/x-python",
   "name": "python",
   "nbconvert_exporter": "python",
   "pygments_lexer": "ipython3",
   "version": "3.11.5"
  }
 },
 "nbformat": 4,
 "nbformat_minor": 5
}
